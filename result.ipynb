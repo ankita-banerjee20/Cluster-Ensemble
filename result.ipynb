{
 "cells": [
  {
   "cell_type": "code",
   "execution_count": 4,
   "metadata": {},
   "outputs": [],
   "source": [
    "import pandas as pd"
   ]
  },
  {
   "cell_type": "code",
   "execution_count": 5,
   "metadata": {},
   "outputs": [
    {
     "data": {
      "text/html": [
       "<div>\n",
       "<style scoped>\n",
       "    .dataframe tbody tr th:only-of-type {\n",
       "        vertical-align: middle;\n",
       "    }\n",
       "\n",
       "    .dataframe tbody tr th {\n",
       "        vertical-align: top;\n",
       "    }\n",
       "\n",
       "    .dataframe thead th {\n",
       "        text-align: right;\n",
       "    }\n",
       "</style>\n",
       "<table border=\"1\" class=\"dataframe\">\n",
       "  <thead>\n",
       "    <tr style=\"text-align: right;\">\n",
       "      <th></th>\n",
       "      <th>Majority Voting</th>\n",
       "      <th>Threshold Voting</th>\n",
       "      <th>CSPA</th>\n",
       "    </tr>\n",
       "  </thead>\n",
       "  <tbody>\n",
       "    <tr>\n",
       "      <th>Iris Dataset</th>\n",
       "      <td>0.521946</td>\n",
       "      <td>0.534510</td>\n",
       "      <td>0.521946</td>\n",
       "    </tr>\n",
       "    <tr>\n",
       "      <th>Breast Cancer Dataset</th>\n",
       "      <td>0.379201</td>\n",
       "      <td>0.382594</td>\n",
       "      <td>0.375255</td>\n",
       "    </tr>\n",
       "    <tr>\n",
       "      <th>Heart Disease Dataset</th>\n",
       "      <td>0.125435</td>\n",
       "      <td>0.233133</td>\n",
       "      <td>0.247357</td>\n",
       "    </tr>\n",
       "  </tbody>\n",
       "</table>\n",
       "</div>"
      ],
      "text/plain": [
       "                       Majority Voting  Threshold Voting      CSPA\n",
       "Iris Dataset                  0.521946          0.534510  0.521946\n",
       "Breast Cancer Dataset         0.379201          0.382594  0.375255\n",
       "Heart Disease Dataset         0.125435          0.233133  0.247357"
      ]
     },
     "execution_count": 5,
     "metadata": {},
     "output_type": "execute_result"
    }
   ],
   "source": [
    "data = {\n",
    "  \"Majority Voting\": [0.5219462131080864, 0.3792010132811229, 0.12543522954660946],\n",
    "  \"Threshold Voting\": [0.5345095355677721, 0.3825937047189046, 0.2331333424894381],\n",
    "  \"CSPA\": [0.5219462131080864,0.3752553160314319, 0.2473574830849229]\n",
    "}\n",
    "\n",
    "df = pd.DataFrame(data, index = [\"Iris Dataset\", \"Breast Cancer Dataset\", \"Heart Disease Dataset\"])\n",
    "df"
   ]
  }
 ],
 "metadata": {
  "kernelspec": {
   "display_name": "Python 3",
   "language": "python",
   "name": "python3"
  },
  "language_info": {
   "codemirror_mode": {
    "name": "ipython",
    "version": 3
   },
   "file_extension": ".py",
   "mimetype": "text/x-python",
   "name": "python",
   "nbconvert_exporter": "python",
   "pygments_lexer": "ipython3",
   "version": "3.12.1"
  }
 },
 "nbformat": 4,
 "nbformat_minor": 2
}
