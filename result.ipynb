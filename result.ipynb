{
 "cells": [
  {
   "cell_type": "code",
   "execution_count": 1,
   "metadata": {},
   "outputs": [],
   "source": [
    "import pandas as pd"
   ]
  },
  {
   "cell_type": "code",
   "execution_count": 2,
   "metadata": {},
   "outputs": [
    {
     "data": {
      "text/html": [
       "<div>\n",
       "<style scoped>\n",
       "    .dataframe tbody tr th:only-of-type {\n",
       "        vertical-align: middle;\n",
       "    }\n",
       "\n",
       "    .dataframe tbody tr th {\n",
       "        vertical-align: top;\n",
       "    }\n",
       "\n",
       "    .dataframe thead th {\n",
       "        text-align: right;\n",
       "    }\n",
       "</style>\n",
       "<table border=\"1\" class=\"dataframe\">\n",
       "  <thead>\n",
       "    <tr style=\"text-align: right;\">\n",
       "      <th></th>\n",
       "      <th>Majority Voting</th>\n",
       "      <th>Threshold Voting</th>\n",
       "      <th>CSPA</th>\n",
       "    </tr>\n",
       "  </thead>\n",
       "  <tbody>\n",
       "    <tr>\n",
       "      <th>Iris Dataset</th>\n",
       "      <td>0.521946</td>\n",
       "      <td>0.554097</td>\n",
       "      <td>0.521946</td>\n",
       "    </tr>\n",
       "    <tr>\n",
       "      <th>Breast Cancer Dataset</th>\n",
       "      <td>0.379201</td>\n",
       "      <td>0.383106</td>\n",
       "      <td>0.375255</td>\n",
       "    </tr>\n",
       "    <tr>\n",
       "      <th>Heart Disease Dataset</th>\n",
       "      <td>0.125435</td>\n",
       "      <td>0.287488</td>\n",
       "      <td>0.247357</td>\n",
       "    </tr>\n",
       "    <tr>\n",
       "      <th>Lung Cancer Dataset</th>\n",
       "      <td>0.418847</td>\n",
       "      <td>0.418674</td>\n",
       "      <td>0.418847</td>\n",
       "    </tr>\n",
       "    <tr>\n",
       "      <th>Diabetes Dataset</th>\n",
       "      <td>0.241105</td>\n",
       "      <td>0.260134</td>\n",
       "      <td>0.399376</td>\n",
       "    </tr>\n",
       "  </tbody>\n",
       "</table>\n",
       "</div>"
      ],
      "text/plain": [
       "                       Majority Voting  Threshold Voting      CSPA\n",
       "Iris Dataset                  0.521946          0.554097  0.521946\n",
       "Breast Cancer Dataset         0.379201          0.383106  0.375255\n",
       "Heart Disease Dataset         0.125435          0.287488  0.247357\n",
       "Lung Cancer Dataset           0.418847          0.418674  0.418847\n",
       "Diabetes Dataset              0.241105          0.260134  0.399376"
      ]
     },
     "execution_count": 2,
     "metadata": {},
     "output_type": "execute_result"
    }
   ],
   "source": [
    "data = {\n",
    "  \"Majority Voting\": [0.5219462131080864, 0.3792010132811229, 0.12543522954660946, 0.4188465961234816, 0.2411050976508288],\n",
    "  \"Threshold Voting\": [0.5540972908150553, 0.383105880847981, 0.2874880419277758, 0.41867365842641563, 0.26013395237529086],\n",
    "  \"CSPA\": [0.5219462131080864,0.3752553160314319, 0.2473574830849229, 0.4188465961234816, 0.3993761131974017]\n",
    "}\n",
    "\n",
    "df = pd.DataFrame(data, index = [\"Iris Dataset\", \"Breast Cancer Dataset\", \"Heart Disease Dataset\", \"Lung Cancer Dataset\", \"Diabetes Dataset\"])\n",
    "df"
   ]
  }
 ],
 "metadata": {
  "kernelspec": {
   "display_name": "Python 3",
   "language": "python",
   "name": "python3"
  },
  "language_info": {
   "codemirror_mode": {
    "name": "ipython",
    "version": 3
   },
   "file_extension": ".py",
   "mimetype": "text/x-python",
   "name": "python",
   "nbconvert_exporter": "python",
   "pygments_lexer": "ipython3",
   "version": "3.12.1"
  }
 },
 "nbformat": 4,
 "nbformat_minor": 2
}
